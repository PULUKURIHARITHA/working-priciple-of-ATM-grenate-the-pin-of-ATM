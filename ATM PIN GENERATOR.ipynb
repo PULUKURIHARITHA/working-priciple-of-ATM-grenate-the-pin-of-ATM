{
 "cells": [
  {
   "cell_type": "code",
   "execution_count": 3,
   "id": "f711976a-41fb-46c6-b2a4-5e788d6479c7",
   "metadata": {},
   "outputs": [
    {
     "name": "stdin",
     "output_type": "stream",
     "text": [
      "enter the 4 digit pin number: 1234\n"
     ]
    },
    {
     "name": "stdout",
     "output_type": "stream",
     "text": [
      "Access Granted!!\n"
     ]
    },
    {
     "name": "stdin",
     "output_type": "stream",
     "text": [
      "enter the amount: 2500\n"
     ]
    },
    {
     "name": "stdout",
     "output_type": "stream",
     "text": [
      "enter the withdrawl amount: 2500\n",
      "Remaining balance: 2500\n",
      "Thankyou for banking with ICICI...\n"
     ]
    }
   ],
   "source": [
    "pin=int(input(\"enter the 4 digit pin number:\"))\n",
    "spin=1234\n",
    "balance=5000\n",
    "if pin==spin:\n",
    "    print(\"Access Granted!!\")\n",
    "    withdrawl=int(input(\"enter the amount:\"))\n",
    "    if withdrawl>balance:\n",
    "        print(\"Insufficient balance\")\n",
    "    else:\n",
    "        print(\"enter the withdrawl amount:\",withdrawl)\n",
    "        print(\"Remaining balance:\",balance-withdrawl)\n",
    "        print(\"Thankyou for banking with ICICI...\")\n",
    "else:\n",
    "    print(\"Access denied.....wrong pin\")"
   ]
  },
  {
   "cell_type": "code",
   "execution_count": null,
   "id": "b48f0b48-56b0-40ec-b8da-a1015551217e",
   "metadata": {},
   "outputs": [],
   "source": []
  }
 ],
 "metadata": {
  "kernelspec": {
   "display_name": "Python 3 (ipykernel)",
   "language": "python",
   "name": "python3"
  },
  "language_info": {
   "codemirror_mode": {
    "name": "ipython",
    "version": 3
   },
   "file_extension": ".py",
   "mimetype": "text/x-python",
   "name": "python",
   "nbconvert_exporter": "python",
   "pygments_lexer": "ipython3",
   "version": "3.12.7"
  }
 },
 "nbformat": 4,
 "nbformat_minor": 5
}
